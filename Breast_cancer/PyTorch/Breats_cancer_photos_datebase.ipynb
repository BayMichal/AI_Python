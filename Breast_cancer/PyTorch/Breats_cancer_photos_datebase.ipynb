{
 "cells": [
  {
   "cell_type": "code",
   "execution_count": 6,
   "id": "3a7bc7a9",
   "metadata": {},
   "outputs": [],
   "source": [
    "#dane\n",
    "import numpy as np\n",
    "import matplotlib.pyplot as plt\n",
    "import pandas as pd\n",
    "import numpy as np\n",
    "import seaborn as sns\n",
    "sns.set()\n",
    "#nauka\n",
    "from sklearn.model_selection import train_test_split\n",
    "from sklearn.metrics import mean_squared_error\n",
    "from sklearn.metrics import r2_score\n",
    "import itertools\n",
    "import graphviz\n",
    "import lightgbm as lgb\n",
    "import seaborn as sns\n",
    "sns.set()\n",
    "import matplotlib.pyplot as plt\n",
    "%matplotlib inline\n",
    "import os, sys"
   ]
  },
  {
   "cell_type": "code",
   "execution_count": 33,
   "id": "03b3cc53",
   "metadata": {},
   "outputs": [
    {
     "name": "stdout",
     "output_type": "stream",
     "text": [
      "Liczba podfolerów ścieżki to: 280\n",
      "Liczba Pacjentów: 279\n"
     ]
    }
   ],
   "source": [
    "#---Otwieram folder który posiada 280 podfolderów\n",
    "sciezka1 = \"E:\\data_cancer\"\n",
    "pliki = os.listdir(sciezka1)\n",
    "\n",
    "sciezka2 = \"E:\\data_cancer\\IDC_regular_ps50_idx5\"\n",
    "Pliki_2 = os.listdir(sciezka2)\n",
    "\n",
    "print(\"Liczba podfolerów ścieżki to:\", len(pliki))\n",
    "print(\"Liczba Pacjentów:\", len(Pliki_2))\n"
   ]
  },
  {
   "cell_type": "code",
   "execution_count": 82,
   "id": "9bce1954",
   "metadata": {},
   "outputs": [
    {
     "name": "stdout",
     "output_type": "stream",
     "text": [
      "Całkowita liczba plików to: 277524 obrazów.\n"
     ]
    }
   ],
   "source": [
    "# IDC = Inwazyjny rak przewodowy\n",
    "#W Folderach:\n",
    "#  0 - brak IDC\n",
    "#  1 - IDC (w różnych stadiach)\n",
    "\n",
    "\n",
    "ilosc_plikow = 0\n",
    "\n",
    "#przeszukujemy katalog IDC z obrazami, zeby sprawdzic ile ich jest\n",
    "for base, dirs, files in os.walk(sciezka2):\n",
    "    for Files in files:\n",
    "        ilosc_plikow += 1\n",
    "    \n",
    "    \n",
    "\n",
    "print('Całkowita liczba plików to:',all_pliki,\"obrazów.\")\n"
   ]
  },
  {
   "cell_type": "code",
   "execution_count": null,
   "id": "ce155f5c",
   "metadata": {},
   "outputs": [],
   "source": []
  }
 ],
 "metadata": {
  "kernelspec": {
   "display_name": "Python 3",
   "language": "python",
   "name": "python3"
  },
  "language_info": {
   "codemirror_mode": {
    "name": "ipython",
    "version": 3
   },
   "file_extension": ".py",
   "mimetype": "text/x-python",
   "name": "python",
   "nbconvert_exporter": "python",
   "pygments_lexer": "ipython3",
   "version": "3.8.8"
  }
 },
 "nbformat": 4,
 "nbformat_minor": 5
}
