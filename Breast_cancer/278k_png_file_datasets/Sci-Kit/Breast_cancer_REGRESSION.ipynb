{
 "cells": [
  {
   "cell_type": "code",
   "execution_count": null,
   "id": "0c31b142",
   "metadata": {},
   "outputs": [],
   "source": [
    "\n",
    "#dane\n",
    "import numpy as np\n",
    "import matplotlib.pyplot as plt\n",
    "import pandas as pd\n",
    "import numpy as np\n",
    "\n",
    "#nauka\n",
    "from sklearn.model_selection import train_test_split\n",
    "from sklearn.metrics import mean_squared_error\n",
    "from sklearn.metrics import r2_score\n",
    "import itertools\n",
    "import graphviz\n",
    "import lightgbm as lgb\n",
    "import seaborn as sns\n",
    "sns.set()\n",
    "import matplotlib.pyplot as plt\n",
    "%matplotlib inline\n",
    "\n",
    "\n",
    "#Wczytaj dane\n",
    "colnames=['id','diagnosis','radius_mean','texture_mean','perimeter_mean','area_mean','smoothenss_mean','compactness_mean','concavity_mean','concave points_mean','symmetry_mean','fractal_dismension_mean','radius_se','texture_se','perimeter_se','area_se','smoothness_se','compactness_se','concavity_se','concave points_se','symmetry_se','fractal_dismension_se','radius_worst','texture_worst','perimeter_worst','area_worst','smoothness_worst','compatness_worst','concavity_worst','concave poinst_worst','summetry_worst','fractal_dismension_worst']\n",
    "df = pd.read_csv('Desktop/dane_do_mgr.csv',names=colnames, header=None)\n",
    "\n"
   ]
  },
  {
   "cell_type": "code",
   "execution_count": null,
   "id": "4e98b334",
   "metadata": {},
   "outputs": [],
   "source": [
    "from sklearn.preprocessing import LabelEncoder\n",
    "labelencoder_Y = LabelEncoder()\n",
    "test = labelencoder_Y.fit_transform(df[\"diagnosis\"])\n"
   ]
  },
  {
   "cell_type": "code",
   "execution_count": 7,
   "id": "9e121386",
   "metadata": {},
   "outputs": [],
   "source": [
    "X = df.drop(\"diagnosis\",axis=1)\n",
    "Y = test"
   ]
  },
  {
   "cell_type": "code",
   "execution_count": 8,
   "id": "25647601",
   "metadata": {},
   "outputs": [],
   "source": [
    "'''\n",
    "1). X_train - Obejmuje to wszystkie zmienne niezależne, zostaną one użyte do trenowania modelu, \n",
    "również ponieważ określiliśmy test_size = 0.4, oznacza to, że 60% obserwacji z pełnych \n",
    "danych zostanie użytych do trenowania/dopasowania modelu oraz 40 % z reszty zostanie użyty do przetestowania modelu.\n",
    "\n",
    "2). X_test — Jest to pozostała część 40% niezależnych zmiennych z danych, które nie \n",
    "zostaną wykorzystane w fazie uczenia i zostaną wykorzystane do predykcji w celu przetestowania dokładności modelu.\n",
    "\n",
    "3). y_train — jest to twoja zmienna zależna, która musi być przewidziana przez ten \n",
    "model, obejmuje to etykiety kategorii względem twoich zmiennych niezależnych, musimy \n",
    "określić naszą zmienną zależną podczas uczenia/dopasowywania modelu.\n",
    "\n",
    "4). y_test — te dane mają etykiety kategorii dla danych testowych. Etykiety te \n",
    "będą używane do testowania dokładności między kategoriami rzeczywistymi i przewidywanymi.\n",
    "'''\n",
    "\n",
    "\n",
    "from sklearn.model_selection import train_test_split\n",
    "X_train, X_test, Y_train, Y_test = train_test_split(X, Y, test_size = 0.25, random_state = 0)"
   ]
  },
  {
   "cell_type": "code",
   "execution_count": 10,
   "id": "1bc01f0c",
   "metadata": {},
   "outputs": [],
   "source": [
    "#Regresja liniowa\n",
    "\n",
    "from sklearn.linear_model import LogisticRegression\n",
    "classifier = LogisticRegression(random_state = 0)\n",
    "classifier.fit(X_train, Y_train)\n",
    "Y_pred = classifier.predict(X_test)"
   ]
  },
  {
   "cell_type": "code",
   "execution_count": 11,
   "id": "95ea3b2c",
   "metadata": {},
   "outputs": [
    {
     "data": {
      "text/plain": [
       "array([[90,  0],\n",
       "       [53,  0]], dtype=int64)"
      ]
     },
     "execution_count": 11,
     "metadata": {},
     "output_type": "execute_result"
    }
   ],
   "source": [
    "from sklearn.metrics import confusion_matrix\n",
    "cm = confusion_matrix(Y_test, Y_pred)\n",
    "cm"
   ]
  },
  {
   "cell_type": "code",
   "execution_count": 12,
   "id": "70a807ca",
   "metadata": {},
   "outputs": [
    {
     "name": "stdout",
     "output_type": "stream",
     "text": [
      "Classification report : \n",
      "               precision    recall  f1-score   support\n",
      "\n",
      "           1       0.00      0.00      0.00        53\n",
      "           0       0.63      1.00      0.77        90\n",
      "\n",
      "    accuracy                           0.63       143\n",
      "   macro avg       0.31      0.50      0.39       143\n",
      "weighted avg       0.40      0.63      0.49       143\n",
      "\n"
     ]
    },
    {
     "name": "stderr",
     "output_type": "stream",
     "text": [
      "D:\\Anacodna\\lib\\site-packages\\sklearn\\metrics\\_classification.py:1245: UndefinedMetricWarning: Precision and F-score are ill-defined and being set to 0.0 in labels with no predicted samples. Use `zero_division` parameter to control this behavior.\n",
      "  _warn_prf(average, modifier, msg_start, len(result))\n",
      "D:\\Anacodna\\lib\\site-packages\\sklearn\\metrics\\_classification.py:1245: UndefinedMetricWarning: Precision and F-score are ill-defined and being set to 0.0 in labels with no predicted samples. Use `zero_division` parameter to control this behavior.\n",
      "  _warn_prf(average, modifier, msg_start, len(result))\n",
      "D:\\Anacodna\\lib\\site-packages\\sklearn\\metrics\\_classification.py:1245: UndefinedMetricWarning: Precision and F-score are ill-defined and being set to 0.0 in labels with no predicted samples. Use `zero_division` parameter to control this behavior.\n",
      "  _warn_prf(average, modifier, msg_start, len(result))\n"
     ]
    }
   ],
   "source": [
    "# outcome values order in sklearn\n",
    "#tp, fn, fp, tn = confusion_matrix(Y_test,Y_pred,labels=[1,0]).reshape(-1)\n",
    "#print('Outcome values : \\n', tp, fn, fp, tn)\n",
    "\n",
    "\n",
    "from sklearn.metrics import classification_report\n",
    "# classification report for precision, recall f1-score and accuracy\n",
    "matrix = classification_report(Y_test,Y_pred,labels=[1,0])\n",
    "print('Classification report : \\n',matrix)\n"
   ]
  },
  {
   "cell_type": "code",
   "execution_count": null,
   "id": "88e5e148",
   "metadata": {},
   "outputs": [],
   "source": []
  },
  {
   "cell_type": "code",
   "execution_count": null,
   "id": "a6400627",
   "metadata": {},
   "outputs": [],
   "source": []
  },
  {
   "cell_type": "code",
   "execution_count": null,
   "id": "2976941b",
   "metadata": {},
   "outputs": [],
   "source": []
  },
  {
   "cell_type": "code",
   "execution_count": null,
   "id": "2d159b9c",
   "metadata": {},
   "outputs": [],
   "source": []
  }
 ],
 "metadata": {
  "kernelspec": {
   "display_name": "Python 3",
   "language": "python",
   "name": "python3"
  },
  "language_info": {
   "codemirror_mode": {
    "name": "ipython",
    "version": 3
   },
   "file_extension": ".py",
   "mimetype": "text/x-python",
   "name": "python",
   "nbconvert_exporter": "python",
   "pygments_lexer": "ipython3",
   "version": "3.8.8"
  }
 },
 "nbformat": 4,
 "nbformat_minor": 5
}
