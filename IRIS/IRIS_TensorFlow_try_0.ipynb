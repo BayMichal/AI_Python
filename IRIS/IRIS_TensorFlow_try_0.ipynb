{
 "cells": [
  {
   "cell_type": "code",
   "execution_count": 1,
   "id": "f245e0b3",
   "metadata": {},
   "outputs": [],
   "source": [
    "import torch\n",
    "import os\n",
    "import csv\n",
    "from torch import nn\n",
    "from torch.utils.data import DataLoader\n",
    "from torchvision import datasets\n",
    "from torchvision.transforms import ToTensor, Lambda, Compose\n",
    "import matplotlib.pyplot as plt\n",
    "import pandas as pd\n",
    "import numpy as np\n",
    "import tensorflow as tf\n",
    "from tensorflow.keras import layers\n",
    "import pandas as pd\n",
    "import numpy as np\n",
    "from tensorflow.keras import datasets, layers, models\n",
    "from tensorflow.keras.utils import to_categorical"
   ]
  },
  {
   "cell_type": "code",
   "execution_count": 2,
   "id": "525ca94a",
   "metadata": {},
   "outputs": [
    {
     "name": "stdout",
     "output_type": "stream",
     "text": [
      "     sepal length (cm)  sepal width (cm)  petal length (cm)  petal width (cm)  \\\n",
      "0                  5.1               3.5                1.4               0.2   \n",
      "1                  4.9               3.0                1.4               0.2   \n",
      "2                  4.7               3.2                1.3               0.2   \n",
      "3                  4.6               3.1                1.5               0.2   \n",
      "4                  5.0               3.6                1.4               0.2   \n",
      "..                 ...               ...                ...               ...   \n",
      "145                6.7               3.0                5.2               2.3   \n",
      "146                6.3               2.5                5.0               1.9   \n",
      "147                6.5               3.0                5.2               2.0   \n",
      "148                6.2               3.4                5.4               2.3   \n",
      "149                5.9               3.0                5.1               1.8   \n",
      "\n",
      "            species  \n",
      "0       Iris-setosa  \n",
      "1       Iris-setosa  \n",
      "2       Iris-setosa  \n",
      "3       Iris-setosa  \n",
      "4       Iris-setosa  \n",
      "..              ...  \n",
      "145  Iris-virginica  \n",
      "146  Iris-virginica  \n",
      "147  Iris-virginica  \n",
      "148  Iris-virginica  \n",
      "149  Iris-virginica  \n",
      "\n",
      "[150 rows x 5 columns]\n"
     ]
    }
   ],
   "source": [
    "\n",
    "train_data = pd.read_csv(\"iris.csv\")\n",
    "\n",
    "print(train_data)"
   ]
  },
  {
   "cell_type": "code",
   "execution_count": 3,
   "id": "4146804e",
   "metadata": {},
   "outputs": [
    {
     "name": "stdout",
     "output_type": "stream",
     "text": [
      "[[5.1 3.5 1.4]\n",
      " [4.9 3.  1.4]\n",
      " [4.7 3.2 1.3]\n",
      " [4.6 3.1 1.5]\n",
      " [5.  3.6 1.4]\n",
      " [5.4 3.9 1.7]\n",
      " [4.6 3.4 1.4]\n",
      " [5.  3.4 1.5]\n",
      " [4.4 2.9 1.4]\n",
      " [4.9 3.1 1.5]\n",
      " [5.4 3.7 1.5]\n",
      " [4.8 3.4 1.6]\n",
      " [4.8 3.  1.4]\n",
      " [4.3 3.  1.1]\n",
      " [5.8 4.  1.2]\n",
      " [5.7 4.4 1.5]\n",
      " [5.4 3.9 1.3]\n",
      " [5.1 3.5 1.4]\n",
      " [5.7 3.8 1.7]\n",
      " [5.1 3.8 1.5]\n",
      " [5.4 3.4 1.7]\n",
      " [5.1 3.7 1.5]\n",
      " [4.6 3.6 1. ]\n",
      " [5.1 3.3 1.7]\n",
      " [4.8 3.4 1.9]\n",
      " [5.  3.  1.6]\n",
      " [5.  3.4 1.6]\n",
      " [5.2 3.5 1.5]\n",
      " [5.2 3.4 1.4]\n",
      " [4.7 3.2 1.6]\n",
      " [4.8 3.1 1.6]\n",
      " [5.4 3.4 1.5]\n",
      " [5.2 4.1 1.5]\n",
      " [5.5 4.2 1.4]\n",
      " [4.9 3.1 1.5]\n",
      " [5.  3.2 1.2]\n",
      " [5.5 3.5 1.3]\n",
      " [4.9 3.1 1.5]\n",
      " [4.4 3.  1.3]\n",
      " [5.1 3.4 1.5]\n",
      " [5.  3.5 1.3]\n",
      " [4.5 2.3 1.3]\n",
      " [4.4 3.2 1.3]\n",
      " [5.  3.5 1.6]\n",
      " [5.1 3.8 1.9]\n",
      " [4.8 3.  1.4]\n",
      " [5.1 3.8 1.6]\n",
      " [4.6 3.2 1.4]\n",
      " [5.3 3.7 1.5]\n",
      " [5.  3.3 1.4]\n",
      " [7.  3.2 4.7]\n",
      " [6.4 3.2 4.5]\n",
      " [6.9 3.1 4.9]\n",
      " [5.5 2.3 4. ]\n",
      " [6.5 2.8 4.6]\n",
      " [5.7 2.8 4.5]\n",
      " [6.3 3.3 4.7]\n",
      " [4.9 2.4 3.3]\n",
      " [6.6 2.9 4.6]\n",
      " [5.2 2.7 3.9]\n",
      " [5.  2.  3.5]\n",
      " [5.9 3.  4.2]\n",
      " [6.  2.2 4. ]\n",
      " [6.1 2.9 4.7]\n",
      " [5.6 2.9 3.6]\n",
      " [6.7 3.1 4.4]\n",
      " [5.6 3.  4.5]\n",
      " [5.8 2.7 4.1]\n",
      " [6.2 2.2 4.5]\n",
      " [5.6 2.5 3.9]\n",
      " [5.9 3.2 4.8]\n",
      " [6.1 2.8 4. ]\n",
      " [6.3 2.5 4.9]\n",
      " [6.1 2.8 4.7]\n",
      " [6.4 2.9 4.3]\n",
      " [6.6 3.  4.4]\n",
      " [6.8 2.8 4.8]\n",
      " [6.7 3.  5. ]\n",
      " [6.  2.9 4.5]\n",
      " [5.7 2.6 3.5]\n",
      " [5.5 2.4 3.8]\n",
      " [5.5 2.4 3.7]\n",
      " [5.8 2.7 3.9]\n",
      " [6.  2.7 5.1]\n",
      " [5.4 3.  4.5]\n",
      " [6.  3.4 4.5]\n",
      " [6.7 3.1 4.7]\n",
      " [6.3 2.3 4.4]\n",
      " [5.6 3.  4.1]\n",
      " [5.5 2.5 4. ]\n",
      " [5.5 2.6 4.4]\n",
      " [6.1 3.  4.6]\n",
      " [5.8 2.6 4. ]\n",
      " [5.  2.3 3.3]\n",
      " [5.6 2.7 4.2]\n",
      " [5.7 3.  4.2]\n",
      " [5.7 2.9 4.2]\n",
      " [6.2 2.9 4.3]\n",
      " [5.1 2.5 3. ]\n",
      " [5.7 2.8 4.1]\n",
      " [6.3 3.3 6. ]\n",
      " [5.8 2.7 5.1]\n",
      " [7.1 3.  5.9]\n",
      " [6.3 2.9 5.6]\n",
      " [6.5 3.  5.8]\n",
      " [7.6 3.  6.6]\n",
      " [4.9 2.5 4.5]\n",
      " [7.3 2.9 6.3]\n",
      " [6.7 2.5 5.8]\n",
      " [7.2 3.6 6.1]\n",
      " [6.5 3.2 5.1]\n",
      " [6.4 2.7 5.3]\n",
      " [6.8 3.  5.5]\n",
      " [5.7 2.5 5. ]\n",
      " [5.8 2.8 5.1]\n",
      " [6.4 3.2 5.3]\n",
      " [6.5 3.  5.5]\n",
      " [7.7 3.8 6.7]\n",
      " [7.7 2.6 6.9]\n",
      " [6.  2.2 5. ]\n",
      " [6.9 3.2 5.7]\n",
      " [5.6 2.8 4.9]\n",
      " [7.7 2.8 6.7]\n",
      " [6.3 2.7 4.9]\n",
      " [6.7 3.3 5.7]\n",
      " [7.2 3.2 6. ]\n",
      " [6.2 2.8 4.8]\n",
      " [6.1 3.  4.9]\n",
      " [6.4 2.8 5.6]\n",
      " [7.2 3.  5.8]\n",
      " [7.4 2.8 6.1]\n",
      " [7.9 3.8 6.4]\n",
      " [6.4 2.8 5.6]\n",
      " [6.3 2.8 5.1]\n",
      " [6.1 2.6 5.6]\n",
      " [7.7 3.  6.1]\n",
      " [6.3 3.4 5.6]\n",
      " [6.4 3.1 5.5]\n",
      " [6.  3.  4.8]\n",
      " [6.9 3.1 5.4]\n",
      " [6.7 3.1 5.6]\n",
      " [6.9 3.1 5.1]\n",
      " [5.8 2.7 5.1]\n",
      " [6.8 3.2 5.9]\n",
      " [6.7 3.3 5.7]\n",
      " [6.7 3.  5.2]\n",
      " [6.3 2.5 5. ]\n",
      " [6.5 3.  5.2]\n",
      " [6.2 3.4 5.4]\n",
      " [5.9 3.  5.1]]\n"
     ]
    }
   ],
   "source": [
    "X = train_data.iloc[:,0:3].values\n",
    "print(X)"
   ]
  },
  {
   "cell_type": "code",
   "execution_count": 4,
   "id": "48d84cc3",
   "metadata": {},
   "outputs": [
    {
     "name": "stdout",
     "output_type": "stream",
     "text": [
      "['Iris-setosa' 'Iris-setosa' 'Iris-setosa' 'Iris-setosa']\n"
     ]
    }
   ],
   "source": [
    "y = train_data.iloc[:,4].values\n",
    "print(y[0:4])"
   ]
  },
  {
   "cell_type": "code",
   "execution_count": 5,
   "id": "4319b56a",
   "metadata": {},
   "outputs": [
    {
     "name": "stdout",
     "output_type": "stream",
     "text": [
      "(150, 3)\n",
      "(150,)\n"
     ]
    }
   ],
   "source": [
    "print(X.shape) #4 kolumny danych do nauki\n",
    "print(y.shape) #wyniki "
   ]
  },
  {
   "cell_type": "code",
   "execution_count": 6,
   "id": "e3facaa4",
   "metadata": {},
   "outputs": [
    {
     "name": "stdout",
     "output_type": "stream",
     "text": [
      "[0 0 0 0 0 0 0 0 0 0 0 0 0 0 0 0 0 0 0 0 0 0 0 0 0 0 0 0 0 0 0 0 0 0 0 0 0\n",
      " 0 0 0 0 0 0 0 0 0 0 0 0 0 1 1 1 1 1 1 1 1 1 1 1 1 1 1 1 1 1 1 1 1 1 1 1 1\n",
      " 1 1 1 1 1 1 1 1 1 1 1 1 1 1 1 1 1 1 1 1 1 1 1 1 1 1 2 2 2 2 2 2 2 2 2 2 2\n",
      " 2 2 2 2 2 2 2 2 2 2 2 2 2 2 2 2 2 2 2 2 2 2 2 2 2 2 2 2 2 2 2 2 2 2 2 2 2\n",
      " 2 2]\n"
     ]
    }
   ],
   "source": [
    "from sklearn.preprocessing import LabelEncoder\n",
    "encoder =  LabelEncoder()\n",
    "y1 = encoder.fit_transform(y)\n",
    "print(y1)"
   ]
  },
  {
   "cell_type": "code",
   "execution_count": 7,
   "id": "2a636383",
   "metadata": {},
   "outputs": [
    {
     "name": "stdout",
     "output_type": "stream",
     "text": [
      "[[1 0 0]\n",
      " [1 0 0]\n",
      " [1 0 0]\n",
      " [1 0 0]\n",
      " [1 0 0]]\n"
     ]
    }
   ],
   "source": [
    "Y = pd.get_dummies(y1).values\n",
    "print(Y[0:5])"
   ]
  },
  {
   "cell_type": "code",
   "execution_count": 8,
   "id": "6afecc75",
   "metadata": {},
   "outputs": [],
   "source": [
    "from sklearn.model_selection import train_test_split\n",
    "X_train, X_test, y_train, y_test = train_test_split(X, Y, test_size=0.2, random_state=0)\n",
    "\n"
   ]
  },
  {
   "cell_type": "code",
   "execution_count": 9,
   "id": "3fd1493b",
   "metadata": {},
   "outputs": [
    {
     "name": "stdout",
     "output_type": "stream",
     "text": [
      "[[6.4 3.1 5.5]\n",
      " [5.4 3.  4.5]\n",
      " [5.2 3.5 1.5]\n",
      " [6.1 3.  4.9]\n",
      " [6.4 2.8 5.6]]\n"
     ]
    }
   ],
   "source": [
    "print(X_train[0:5])"
   ]
  },
  {
   "cell_type": "code",
   "execution_count": 10,
   "id": "463f83ba",
   "metadata": {},
   "outputs": [
    {
     "name": "stdout",
     "output_type": "stream",
     "text": [
      "[[0 0 1]\n",
      " [0 1 0]\n",
      " [1 0 0]\n",
      " [0 0 1]\n",
      " [0 0 1]]\n"
     ]
    }
   ],
   "source": [
    "print(y_train[0:5])"
   ]
  },
  {
   "cell_type": "code",
   "execution_count": 11,
   "id": "1d074664",
   "metadata": {},
   "outputs": [
    {
     "name": "stdout",
     "output_type": "stream",
     "text": [
      "[[5.8 2.8 5.1]\n",
      " [6.  2.2 4. ]\n",
      " [5.5 4.2 1.4]\n",
      " [7.3 2.9 6.3]\n",
      " [5.  3.4 1.5]]\n"
     ]
    }
   ],
   "source": [
    "print(X_test[0:5])"
   ]
  },
  {
   "cell_type": "code",
   "execution_count": 12,
   "id": "a22266bc",
   "metadata": {},
   "outputs": [
    {
     "name": "stdout",
     "output_type": "stream",
     "text": [
      "[[0 0 1]\n",
      " [0 1 0]\n",
      " [1 0 0]\n",
      " [0 0 1]\n",
      " [1 0 0]]\n"
     ]
    }
   ],
   "source": [
    "print(y_test[0:5])"
   ]
  },
  {
   "cell_type": "code",
   "execution_count": 13,
   "id": "f411571b",
   "metadata": {},
   "outputs": [
    {
     "data": {
      "text/plain": [
       "<keras.engine.sequential.Sequential at 0x25c9be8c7f0>"
      ]
     },
     "execution_count": 13,
     "metadata": {},
     "output_type": "execute_result"
    }
   ],
   "source": [
    "model = tf.keras.Sequential([\n",
    "    tf.keras.layers.Dense(10, activation='relu'),\n",
    "    tf.keras.layers.Dense(10, activation='relu'),\n",
    "    tf.keras.layers.Dense(3)\n",
    "  ])\n",
    "model"
   ]
  },
  {
   "cell_type": "code",
   "execution_count": 14,
   "id": "4a5576bb",
   "metadata": {},
   "outputs": [],
   "source": [
    "model.compile(optimizer='RMSprop',\n",
    "              loss='categorical_crossentropy',\n",
    "              metrics=['accuracy'])"
   ]
  },
  {
   "cell_type": "code",
   "execution_count": 15,
   "id": "b6356354",
   "metadata": {
    "scrolled": false
   },
   "outputs": [
    {
     "name": "stdout",
     "output_type": "stream",
     "text": [
      "Epoch 1/100\n",
      "3/3 [==============================] - 1s 2ms/step - loss: 9.1336 - accuracy: 0.3917\n",
      "Epoch 2/100\n",
      "3/3 [==============================] - 0s 1ms/step - loss: 9.1336 - accuracy: 0.3917\n",
      "Epoch 3/100\n",
      "3/3 [==============================] - 0s 2ms/step - loss: 9.1336 - accuracy: 0.3917\n",
      "Epoch 4/100\n",
      "3/3 [==============================] - 0s 2ms/step - loss: 9.1336 - accuracy: 0.3917\n",
      "Epoch 5/100\n",
      "3/3 [==============================] - 0s 2ms/step - loss: 9.1336 - accuracy: 0.3917\n",
      "Epoch 6/100\n",
      "3/3 [==============================] - 0s 1ms/step - loss: 9.1336 - accuracy: 0.3917\n",
      "Epoch 7/100\n",
      "3/3 [==============================] - 0s 2ms/step - loss: 9.1336 - accuracy: 0.3917\n",
      "Epoch 8/100\n",
      "3/3 [==============================] - 0s 1ms/step - loss: 9.1336 - accuracy: 0.3917\n",
      "Epoch 9/100\n",
      "3/3 [==============================] - 0s 2ms/step - loss: 9.1336 - accuracy: 0.3917\n",
      "Epoch 10/100\n",
      "3/3 [==============================] - 0s 1ms/step - loss: 9.1336 - accuracy: 0.3917\n",
      "Epoch 11/100\n",
      "3/3 [==============================] - 0s 3ms/step - loss: 9.1336 - accuracy: 0.3917\n",
      "Epoch 12/100\n",
      "3/3 [==============================] - 0s 1ms/step - loss: 9.1336 - accuracy: 0.3917\n",
      "Epoch 13/100\n",
      "3/3 [==============================] - 0s 3ms/step - loss: 9.1336 - accuracy: 0.3917\n",
      "Epoch 14/100\n",
      "3/3 [==============================] - 0s 2ms/step - loss: 9.1336 - accuracy: 0.3917\n",
      "Epoch 15/100\n",
      "3/3 [==============================] - 0s 2ms/step - loss: 9.1336 - accuracy: 0.3917\n",
      "Epoch 16/100\n",
      "3/3 [==============================] - 0s 1ms/step - loss: 9.1336 - accuracy: 0.3917\n",
      "Epoch 17/100\n",
      "3/3 [==============================] - 0s 3ms/step - loss: 9.1336 - accuracy: 0.3917\n",
      "Epoch 18/100\n",
      "3/3 [==============================] - 0s 2ms/step - loss: 9.1336 - accuracy: 0.3917\n",
      "Epoch 19/100\n",
      "3/3 [==============================] - 0s 2ms/step - loss: 9.1336 - accuracy: 0.3917\n",
      "Epoch 20/100\n",
      "3/3 [==============================] - 0s 2ms/step - loss: 9.1336 - accuracy: 0.3917\n",
      "Epoch 21/100\n",
      "3/3 [==============================] - 0s 3ms/step - loss: 9.1336 - accuracy: 0.3917\n",
      "Epoch 22/100\n",
      "3/3 [==============================] - 0s 2ms/step - loss: 9.1336 - accuracy: 0.3917\n",
      "Epoch 23/100\n",
      "3/3 [==============================] - 0s 2ms/step - loss: 9.1336 - accuracy: 0.3917\n",
      "Epoch 24/100\n",
      "3/3 [==============================] - 0s 2ms/step - loss: 9.1336 - accuracy: 0.3917\n",
      "Epoch 25/100\n",
      "3/3 [==============================] - 0s 2ms/step - loss: 9.1336 - accuracy: 0.3917\n",
      "Epoch 26/100\n",
      "3/3 [==============================] - 0s 2ms/step - loss: 9.1336 - accuracy: 0.3917\n",
      "Epoch 27/100\n",
      "3/3 [==============================] - 0s 1ms/step - loss: 9.1336 - accuracy: 0.3917\n",
      "Epoch 28/100\n",
      "3/3 [==============================] - 0s 2ms/step - loss: 9.1336 - accuracy: 0.3917\n",
      "Epoch 29/100\n",
      "3/3 [==============================] - 0s 2ms/step - loss: 9.1336 - accuracy: 0.3917\n",
      "Epoch 30/100\n",
      "3/3 [==============================] - 0s 2ms/step - loss: 9.1336 - accuracy: 0.3917\n",
      "Epoch 31/100\n",
      "3/3 [==============================] - 0s 2ms/step - loss: 9.1336 - accuracy: 0.3917\n",
      "Epoch 32/100\n",
      "3/3 [==============================] - 0s 3ms/step - loss: 9.1336 - accuracy: 0.3917\n",
      "Epoch 33/100\n",
      "3/3 [==============================] - 0s 1ms/step - loss: 9.1336 - accuracy: 0.3917\n",
      "Epoch 34/100\n",
      "3/3 [==============================] - 0s 2ms/step - loss: 9.1336 - accuracy: 0.3917\n",
      "Epoch 35/100\n",
      "3/3 [==============================] - 0s 1ms/step - loss: 9.1336 - accuracy: 0.3917\n",
      "Epoch 36/100\n",
      "3/3 [==============================] - 0s 3ms/step - loss: 9.1336 - accuracy: 0.3917\n",
      "Epoch 37/100\n",
      "3/3 [==============================] - 0s 2ms/step - loss: 9.1336 - accuracy: 0.3917\n",
      "Epoch 38/100\n",
      "3/3 [==============================] - 0s 3ms/step - loss: 9.1336 - accuracy: 0.3917\n",
      "Epoch 39/100\n",
      "3/3 [==============================] - 0s 2ms/step - loss: 9.1336 - accuracy: 0.3917\n",
      "Epoch 40/100\n",
      "3/3 [==============================] - 0s 3ms/step - loss: 9.1336 - accuracy: 0.3917\n",
      "Epoch 41/100\n",
      "3/3 [==============================] - 0s 3ms/step - loss: 9.1336 - accuracy: 0.3917\n",
      "Epoch 42/100\n",
      "3/3 [==============================] - 0s 2ms/step - loss: 9.1336 - accuracy: 0.3917\n",
      "Epoch 43/100\n",
      "3/3 [==============================] - 0s 2ms/step - loss: 9.1336 - accuracy: 0.3917\n",
      "Epoch 44/100\n",
      "3/3 [==============================] - 0s 2ms/step - loss: 9.1336 - accuracy: 0.3917\n",
      "Epoch 45/100\n",
      "3/3 [==============================] - 0s 2ms/step - loss: 9.1336 - accuracy: 0.3917\n",
      "Epoch 46/100\n",
      "3/3 [==============================] - 0s 2ms/step - loss: 9.1336 - accuracy: 0.3917\n",
      "Epoch 47/100\n",
      "3/3 [==============================] - 0s 2ms/step - loss: 9.1336 - accuracy: 0.3917\n",
      "Epoch 48/100\n",
      "3/3 [==============================] - 0s 3ms/step - loss: 9.1336 - accuracy: 0.3917\n",
      "Epoch 49/100\n",
      "3/3 [==============================] - 0s 2ms/step - loss: 9.1336 - accuracy: 0.3917\n",
      "Epoch 50/100\n",
      "3/3 [==============================] - 0s 3ms/step - loss: 9.1336 - accuracy: 0.3917\n",
      "Epoch 51/100\n",
      "3/3 [==============================] - 0s 2ms/step - loss: 9.1336 - accuracy: 0.3917\n",
      "Epoch 52/100\n",
      "3/3 [==============================] - 0s 2ms/step - loss: 9.1336 - accuracy: 0.3917\n",
      "Epoch 53/100\n",
      "3/3 [==============================] - 0s 1ms/step - loss: 9.1336 - accuracy: 0.3917\n",
      "Epoch 54/100\n",
      "3/3 [==============================] - 0s 2ms/step - loss: 9.1336 - accuracy: 0.3917\n",
      "Epoch 55/100\n",
      "3/3 [==============================] - 0s 3ms/step - loss: 9.1336 - accuracy: 0.3917\n",
      "Epoch 56/100\n",
      "3/3 [==============================] - 0s 2ms/step - loss: 9.1336 - accuracy: 0.3917\n",
      "Epoch 57/100\n",
      "3/3 [==============================] - 0s 3ms/step - loss: 9.1336 - accuracy: 0.3917\n",
      "Epoch 58/100\n",
      "3/3 [==============================] - 0s 2ms/step - loss: 9.1336 - accuracy: 0.3917\n",
      "Epoch 59/100\n",
      "3/3 [==============================] - 0s 3ms/step - loss: 9.1336 - accuracy: 0.3917\n",
      "Epoch 60/100\n",
      "3/3 [==============================] - 0s 1ms/step - loss: 9.1336 - accuracy: 0.3917\n",
      "Epoch 61/100\n",
      "3/3 [==============================] - 0s 2ms/step - loss: 9.1336 - accuracy: 0.3917\n",
      "Epoch 62/100\n",
      "3/3 [==============================] - 0s 2ms/step - loss: 9.1336 - accuracy: 0.3917\n",
      "Epoch 63/100\n",
      "3/3 [==============================] - 0s 2ms/step - loss: 9.1336 - accuracy: 0.3917\n",
      "Epoch 64/100\n",
      "3/3 [==============================] - 0s 3ms/step - loss: 9.1336 - accuracy: 0.3917\n",
      "Epoch 65/100\n",
      "3/3 [==============================] - 0s 2ms/step - loss: 9.1336 - accuracy: 0.3917\n",
      "Epoch 66/100\n",
      "3/3 [==============================] - 0s 2ms/step - loss: 9.1336 - accuracy: 0.3917\n",
      "Epoch 67/100\n",
      "3/3 [==============================] - 0s 1ms/step - loss: 9.1336 - accuracy: 0.3917\n",
      "Epoch 68/100\n",
      "3/3 [==============================] - 0s 2ms/step - loss: 9.1336 - accuracy: 0.3917\n",
      "Epoch 69/100\n",
      "3/3 [==============================] - 0s 2ms/step - loss: 9.1336 - accuracy: 0.3917\n",
      "Epoch 70/100\n",
      "3/3 [==============================] - 0s 1ms/step - loss: 9.1336 - accuracy: 0.3917\n",
      "Epoch 71/100\n",
      "3/3 [==============================] - 0s 2ms/step - loss: 9.1336 - accuracy: 0.3917\n",
      "Epoch 72/100\n",
      "3/3 [==============================] - 0s 1ms/step - loss: 9.1336 - accuracy: 0.3917\n",
      "Epoch 73/100\n",
      "3/3 [==============================] - 0s 2ms/step - loss: 9.1336 - accuracy: 0.3917\n",
      "Epoch 74/100\n",
      "3/3 [==============================] - 0s 1ms/step - loss: 9.1336 - accuracy: 0.3917\n",
      "Epoch 75/100\n",
      "3/3 [==============================] - 0s 2ms/step - loss: 9.1336 - accuracy: 0.3917\n",
      "Epoch 76/100\n",
      "3/3 [==============================] - 0s 1ms/step - loss: 9.1336 - accuracy: 0.3917\n",
      "Epoch 77/100\n",
      "3/3 [==============================] - 0s 3ms/step - loss: 9.1336 - accuracy: 0.3917\n",
      "Epoch 78/100\n",
      "3/3 [==============================] - 0s 2ms/step - loss: 9.1336 - accuracy: 0.3917\n",
      "Epoch 79/100\n",
      "3/3 [==============================] - 0s 3ms/step - loss: 9.1336 - accuracy: 0.3917\n",
      "Epoch 80/100\n",
      "3/3 [==============================] - 0s 2ms/step - loss: 9.1336 - accuracy: 0.3917\n",
      "Epoch 81/100\n",
      "3/3 [==============================] - 0s 3ms/step - loss: 9.1336 - accuracy: 0.3917\n",
      "Epoch 82/100\n",
      "3/3 [==============================] - 0s 2ms/step - loss: 9.1336 - accuracy: 0.3917\n",
      "Epoch 83/100\n",
      "3/3 [==============================] - 0s 2ms/step - loss: 9.1336 - accuracy: 0.3917\n",
      "Epoch 84/100\n"
     ]
    },
    {
     "name": "stdout",
     "output_type": "stream",
     "text": [
      "3/3 [==============================] - 0s 2ms/step - loss: 9.1336 - accuracy: 0.3917\n",
      "Epoch 85/100\n",
      "3/3 [==============================] - 0s 2ms/step - loss: 9.1336 - accuracy: 0.3917\n",
      "Epoch 86/100\n",
      "3/3 [==============================] - 0s 2ms/step - loss: 9.1336 - accuracy: 0.3917\n",
      "Epoch 87/100\n",
      "3/3 [==============================] - 0s 2ms/step - loss: 9.1336 - accuracy: 0.3917\n",
      "Epoch 88/100\n",
      "3/3 [==============================] - 0s 3ms/step - loss: 9.1336 - accuracy: 0.3917\n",
      "Epoch 89/100\n",
      "3/3 [==============================] - 0s 1ms/step - loss: 9.1336 - accuracy: 0.3917\n",
      "Epoch 90/100\n",
      "3/3 [==============================] - 0s 3ms/step - loss: 9.1336 - accuracy: 0.3917\n",
      "Epoch 91/100\n",
      "3/3 [==============================] - 0s 999us/step - loss: 9.1336 - accuracy: 0.3917\n",
      "Epoch 92/100\n",
      "3/3 [==============================] - 0s 3ms/step - loss: 9.1336 - accuracy: 0.3917\n",
      "Epoch 93/100\n",
      "3/3 [==============================] - 0s 1ms/step - loss: 9.1336 - accuracy: 0.3917\n",
      "Epoch 94/100\n",
      "3/3 [==============================] - 0s 3ms/step - loss: 9.1336 - accuracy: 0.3917\n",
      "Epoch 95/100\n",
      "3/3 [==============================] - 0s 2ms/step - loss: 9.1336 - accuracy: 0.3917\n",
      "Epoch 96/100\n",
      "3/3 [==============================] - 0s 2ms/step - loss: 9.1336 - accuracy: 0.3917\n",
      "Epoch 97/100\n",
      "3/3 [==============================] - 0s 2ms/step - loss: 9.1336 - accuracy: 0.3917\n",
      "Epoch 98/100\n",
      "3/3 [==============================] - 0s 2ms/step - loss: 9.1336 - accuracy: 0.3917\n",
      "Epoch 99/100\n",
      "3/3 [==============================] - 0s 2ms/step - loss: 9.1336 - accuracy: 0.3917\n",
      "Epoch 100/100\n",
      "3/3 [==============================] - 0s 1ms/step - loss: 9.1336 - accuracy: 0.3917\n"
     ]
    },
    {
     "data": {
      "text/plain": [
       "<keras.callbacks.History at 0x25c9bfead00>"
      ]
     },
     "execution_count": 15,
     "metadata": {},
     "output_type": "execute_result"
    }
   ],
   "source": [
    "model.fit(X_train, y_train, batch_size=50, epochs=100)"
   ]
  },
  {
   "cell_type": "code",
   "execution_count": 16,
   "id": "ce3f468f",
   "metadata": {},
   "outputs": [
    {
     "name": "stdout",
     "output_type": "stream",
     "text": [
      "Test loss: 6.984508037567139\n",
      "Test accuracy: 0.5666666626930237\n"
     ]
    }
   ],
   "source": [
    "loss, accuracy = model.evaluate(X_test, y_test, verbose=0)\n",
    "print('Test loss:', loss)\n",
    "print('Test accuracy:', accuracy)"
   ]
  },
  {
   "cell_type": "code",
   "execution_count": 22,
   "id": "b116f861",
   "metadata": {},
   "outputs": [],
   "source": [
    "y_pred = model.predict(X_test)\n"
   ]
  },
  {
   "cell_type": "code",
   "execution_count": 18,
   "id": "2430685c",
   "metadata": {},
   "outputs": [
    {
     "data": {
      "text/plain": [
       "<keras.callbacks.History at 0x25c9d2d3790>"
      ]
     },
     "execution_count": 18,
     "metadata": {},
     "output_type": "execute_result"
    }
   ],
   "source": [
    "model.history"
   ]
  },
  {
   "cell_type": "code",
   "execution_count": 19,
   "id": "806734a6",
   "metadata": {},
   "outputs": [
    {
     "name": "stdout",
     "output_type": "stream",
     "text": [
      "Actual   : [2 1 0 2 0 2 0 1 1 1 2 1 1 1 1 0 1 1 0 0 2 1 0 0 2 0 0 1 1 0]\n",
      "Predicted: [1 1 0 1 1 1 0 1 1 1 1 1 1 1 1 1 1 1 1 0 1 1 1 1 1 0 1 1 1 1]\n"
     ]
    }
   ],
   "source": [
    "actual = np.argmax(y_test,axis=1)\n",
    "predicted = np.argmax(y_pred,axis=1)\n",
    "print(f\"Actual   : {actual}\")\n",
    "print(f\"Predicted: {predicted}\")"
   ]
  },
  {
   "cell_type": "code",
   "execution_count": null,
   "id": "839ebcda",
   "metadata": {},
   "outputs": [],
   "source": []
  }
 ],
 "metadata": {
  "kernelspec": {
   "display_name": "Python 3",
   "language": "python",
   "name": "python3"
  },
  "language_info": {
   "codemirror_mode": {
    "name": "ipython",
    "version": 3
   },
   "file_extension": ".py",
   "mimetype": "text/x-python",
   "name": "python",
   "nbconvert_exporter": "python",
   "pygments_lexer": "ipython3",
   "version": "3.8.8"
  }
 },
 "nbformat": 4,
 "nbformat_minor": 5
}
